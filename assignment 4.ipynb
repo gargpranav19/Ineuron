{
 "cells": [
  {
   "cell_type": "markdown",
   "metadata": {},
   "source": [
    "1.1 Write a Python Program(with class concepts) to find the area of the triangle using the below\n",
    "formula.  \n",
    "area = (s*(s-a)*(s-b)*(s-c)) ** 0.5  \n",
    "\n",
    "Function to take the length of the sides of triangle from user should be defined in the parent\n",
    "class and function to calculate the area should be defined in subclass."
   ]
  },
  {
   "cell_type": "code",
   "execution_count": 4,
   "metadata": {},
   "outputs": [],
   "source": [
    "import math"
   ]
  },
  {
   "cell_type": "code",
   "execution_count": 5,
   "metadata": {},
   "outputs": [],
   "source": [
    "class sides:\n",
    "    def __init__(self):\n",
    "        self.a=int(input('Enter a: '))\n",
    "        self.b=int(input('Enter b: '))\n",
    "        self.c=int(input('Enter c: '))\n",
    "        \n",
    "#     def __str__(self):\n",
    "#         print('The sides of the triangle are {},{} and {}.'.format(self.a,self.b,self.c))\n",
    "\n",
    "class area(sides):\n",
    "    def __init__(self):\n",
    "        super().__init__()\n",
    "        \n",
    "    def ar(self):\n",
    "        s=(self.a+self.b+self.c)/2\n",
    "        a=math.sqrt(s*(s-self.a)*(s-self.b)*(s-self.c))\n",
    "        print('Area of the the triangle is {}'.format(a))    "
   ]
  },
  {
   "cell_type": "code",
   "execution_count": 7,
   "metadata": {},
   "outputs": [
    {
     "name": "stdout",
     "output_type": "stream",
     "text": [
      "Enter a: 25\n",
      "Enter b: 60\n",
      "Enter c: 70\n",
      "Area of the the triangle is 730.7690726214404\n"
     ]
    }
   ],
   "source": [
    "s1=area()\n",
    "s1.ar()"
   ]
  },
  {
   "cell_type": "markdown",
   "metadata": {},
   "source": [
    "1.2 Write a function filter_long_words() that takes a list of words and an integer n and returns\n",
    "the list of words that are longer than n."
   ]
  },
  {
   "cell_type": "code",
   "execution_count": 8,
   "metadata": {},
   "outputs": [],
   "source": [
    "def filter_long_words(lst,n):\n",
    "    l=[]\n",
    "    for i in lst:\n",
    "        if len(i)>n:\n",
    "            l.append(i)\n",
    "    return l"
   ]
  },
  {
   "cell_type": "code",
   "execution_count": 9,
   "metadata": {},
   "outputs": [
    {
     "data": {
      "text/plain": [
       "['vinayak', 'harikesh']"
      ]
     },
     "execution_count": 9,
     "metadata": {},
     "output_type": "execute_result"
    }
   ],
   "source": [
    "filter_long_words(['pranav','vinayak','ayush','raghav','harikesh'],6)"
   ]
  },
  {
   "cell_type": "markdown",
   "metadata": {},
   "source": [
    "2.1 Write a Python program using function concept that maps list of words into a list of integers\n",
    "representing the lengths of the corresponding words.\n",
    "Hint: If a list [ab,cde,erty] is passed on to the python function output should come as [2,3,4]\n",
    "Here 2,3 and 4 are the lengths of the words in the list."
   ]
  },
  {
   "cell_type": "code",
   "execution_count": 10,
   "metadata": {},
   "outputs": [],
   "source": [
    "def length(lst):\n",
    "    l=[]\n",
    "    for i in lst:\n",
    "        l.append(len(i))\n",
    "    return l"
   ]
  },
  {
   "cell_type": "code",
   "execution_count": 11,
   "metadata": {},
   "outputs": [
    {
     "data": {
      "text/plain": [
       "[2, 3, 4]"
      ]
     },
     "execution_count": 11,
     "metadata": {},
     "output_type": "execute_result"
    }
   ],
   "source": [
    "length(['ab','cde','erty'])"
   ]
  },
  {
   "cell_type": "markdown",
   "metadata": {},
   "source": [
    "2.2 Write a Python function which takes a character (i.e. a string of length 1) and returns True if\n",
    "it is a vowel, False otherwise."
   ]
  },
  {
   "cell_type": "code",
   "execution_count": 12,
   "metadata": {},
   "outputs": [],
   "source": [
    "def is_vowel(char):\n",
    "    vowels=['a','e','i','o','u']\n",
    "    if len(char)>1:\n",
    "        print('{} is not an alphabet'.format(char))\n",
    "        \n",
    "    else:\n",
    "        for i in vowels:\n",
    "            if char==i:\n",
    "                print('{} is vowel'.format(char))\n",
    "                break\n",
    "        else:\n",
    "            print('{} is not a vowel'.format(char))"
   ]
  },
  {
   "cell_type": "code",
   "execution_count": 13,
   "metadata": {},
   "outputs": [
    {
     "name": "stdout",
     "output_type": "stream",
     "text": [
      "w is not a vowel\n"
     ]
    }
   ],
   "source": [
    "is_vowel('w')"
   ]
  }
 ],
 "metadata": {
  "kernelspec": {
   "display_name": "Python 3",
   "language": "python",
   "name": "python3"
  },
  "language_info": {
   "codemirror_mode": {
    "name": "ipython",
    "version": 3
   },
   "file_extension": ".py",
   "mimetype": "text/x-python",
   "name": "python",
   "nbconvert_exporter": "python",
   "pygments_lexer": "ipython3",
   "version": "3.7.7"
  }
 },
 "nbformat": 4,
 "nbformat_minor": 4
}
